{
 "cells": [
  {
   "cell_type": "code",
   "execution_count": null,
   "metadata": {},
   "outputs": [],
   "source": [
    "#| hide\n"
   ]
  },
  {
   "cell_type": "markdown",
   "metadata": {},
   "source": [
    "# auto_economics\n",
    "\n",
    "> Automated Economics"
   ]
  },
  {
   "cell_type": "markdown",
   "metadata": {},
   "source": [
    "This file will become your README and also the index of your documentation."
   ]
  },
  {
   "cell_type": "markdown",
   "metadata": {},
   "source": [
    "## Install"
   ]
  },
  {
   "cell_type": "markdown",
   "metadata": {},
   "source": [
    "```sh\n",
    "pip install auto_economics\n",
    "```"
   ]
  },
  {
   "cell_type": "markdown",
   "metadata": {},
   "source": [
    "Link: https://pypi.org/project/auto-economics/"
   ]
  },
  {
   "cell_type": "markdown",
   "metadata": {},
   "source": [
    "## How to use"
   ]
  },
  {
   "cell_type": "code",
   "execution_count": null,
   "metadata": {},
   "outputs": [],
   "source": [
    "from auto_economics.core import Free_market, Monopoly"
   ]
  },
  {
   "cell_type": "code",
   "execution_count": null,
   "metadata": {},
   "outputs": [],
   "source": [
    "\n",
    "supply_function = \" x\"\n",
    "demand_function = \"10 -  x\"\n",
    "market = Free_market(supply=supply_function, demand=demand_function)"
   ]
  },
  {
   "cell_type": "code",
   "execution_count": null,
   "metadata": {},
   "outputs": [],
   "source": [
    "consumer_surplus = market.get_consumer_surplus()\n",
    "print(\"Consumer Surplus:\", round(consumer_surplus))\n",
    "\n",
    "producer_surplus = market.get_producer_surplus()\n",
    "print(\"Producer Surplus:\", round(producer_surplus))\n",
    "\n",
    "economic_surplus = market.get_economic_surplus()\n",
    "\n",
    "print(\"Economic Surplus:\", round(economic_surplus))"
   ]
  },
  {
   "cell_type": "code",
   "execution_count": null,
   "metadata": {},
   "outputs": [],
   "source": [
    "market.get_graph(complete=True)"
   ]
  },
  {
   "cell_type": "code",
   "execution_count": null,
   "metadata": {},
   "outputs": [],
   "source": [
    "price = market.get_price()\n",
    "quantity = market.get_quantity()\n",
    "print(f\"Price: {round(price)}, Quantity: {round(quantity)}\")"
   ]
  },
  {
   "cell_type": "code",
   "execution_count": null,
   "metadata": {},
   "outputs": [],
   "source": [
    "supply = \"x\"\n",
    "demand = \"10 - x\"\n",
    "market = Monopoly(supply, demand)\n",
    "\n",
    "market.get_graph(complete=True)\n",
    "print(f\"Economic surplus in monopoly: {round(market.get_economic_surplus())}\")"
   ]
  },
  {
   "cell_type": "code",
   "execution_count": null,
   "metadata": {},
   "outputs": [],
   "source": []
  }
 ],
 "metadata": {
  "kernelspec": {
   "display_name": "python3",
   "language": "python",
   "name": "python3"
  },
  "language_info": {
   "name": "python",
   "version": "3.10.13"
  }
 },
 "nbformat": 4,
 "nbformat_minor": 4
}
